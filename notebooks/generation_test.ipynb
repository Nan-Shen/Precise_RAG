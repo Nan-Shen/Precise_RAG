{
 "cells": [
  {
   "cell_type": "code",
   "execution_count": 95,
   "metadata": {},
   "outputs": [],
   "source": [
    "import pickle\n",
    "import contextlib\n",
    "import pandas as pd\n",
    "\n",
    "def dump_pickle(file, outdir):\n",
    "    \"\"\"pickle a file to output directory\n",
    "    \"\"\"\n",
    "    f = open(outdir,\"wb\")\n",
    "    pickle.dump(file, f)\n",
    "    \n",
    "def load_pickle(indir):\n",
    "    \"\"\" load a pickle from indir\n",
    "    \"\"\"\n",
    "    f = open(indir,\"rb\")\n",
    "    return pickle.load(f)\n",
    "    \n",
    "def multiple_strreplace(string, replace_dic):\n",
    "    for k,v in replace_dic.items():\n",
    "        string = string.replace(k,v)\n",
    "    return string\n",
    "\n",
    "def parse_queries(qa_fp, replace_dic):\n",
    "    qa = pd.read_csv(qa_fp)\n",
    "    queries = list(map(lambda query: multiple_strreplace(query, replace_dic), qa['question'].values))\n",
    "    return queries\n",
    "    \n",
    "def log(content, logpath):\n",
    "      try:\n",
    "        content = content.replace('<s>[INST] <<SYS>>', 'System role:'),\n",
    "        content = content.replace('<</SYS>>', ''),\n",
    "        content = content.replace('[/INST]', '\\\\n'),\n",
    "      except:\n",
    "          pass\n",
    "      if os.path.exists(logpath):\n",
    "          with open(logpath, 'a') as f:\n",
    "              with contextlib.redirect_stdout(f):\n",
    "                  print(content)\n",
    "      else:\n",
    "          with open(logpath, 'w') as f:\n",
    "              with contextlib.redirect_stdout(f):\n",
    "                 print(content)"
   ]
  },
  {
   "cell_type": "code",
   "execution_count": 96,
   "metadata": {},
   "outputs": [
    {
     "data": {
      "text/plain": [
       "True"
      ]
     },
     "execution_count": 96,
     "metadata": {},
     "output_type": "execute_result"
    }
   ],
   "source": [
    "import os\n",
    "from dotenv import load_dotenv\n",
    "#from huggingface_hub import login\n",
    "from pathlib import Path\n",
    "dotenv_path = Path('../keys/.env')\n",
    "load_dotenv(dotenv_path=dotenv_path)\n",
    "#hf_token = os.getenv(\"HF_TOKEN\")\n",
    "#os.environ['HUGGINGFACEHUB_API_TOKEN'] = hf_token\n",
    "#os.environ['PYTORCH_ENABLE_MPS_FALLBACK'] = '1'\n",
    "#os.environ['PYTORCH_MPS_HIGH_WATERMARK_RATIO']='0.0'"
   ]
  },
  {
   "cell_type": "markdown",
   "metadata": {},
   "source": [
    "## Retriever"
   ]
  },
  {
   "cell_type": "code",
   "execution_count": 28,
   "metadata": {
    "id": "jUhQa3K5xWLB"
   },
   "outputs": [
    {
     "name": "stderr",
     "output_type": "stream",
     "text": [
      "/Users/Nan/miniconda3/envs/rag/lib/python3.11/site-packages/tqdm/auto.py:21: TqdmWarning: IProgress not found. Please update jupyter and ipywidgets. See https://ipywidgets.readthedocs.io/en/stable/user_install.html\n",
      "  from .autonotebook import tqdm as notebook_tqdm\n"
     ]
    }
   ],
   "source": [
    "import os\n",
    "import torch\n",
    "\n",
    "from langchain.document_loaders import PDFMinerLoader\n",
    "from langchain.text_splitter import RecursiveCharacterTextSplitter\n",
    "\n",
    "from langchain.embeddings import HuggingFaceInferenceAPIEmbeddings, HuggingFaceEmbeddings\n",
    "from langchain.retrievers import ParentDocumentRetriever, ContextualCompressionRetriever\n",
    "from langchain_community.retrievers import BM25Retriever, EnsembleRetriever\n",
    "from langchain.retrievers.document_compressors import CrossEncoderReranker\n",
    "from langchain_chroma import Chroma\n",
    "from langchain.storage import InMemoryStore\n",
    "from ragatouille import RAGPretrainedModel\n",
    "\n",
    "from langchain.llms import HuggingFaceEndpoint, HuggingFaceHub\n",
    "from langchain_community.cross_encoders import HuggingFaceCrossEncoder\n",
    "from langchain import HuggingFacePipeline\n",
    "from langchain.chains import RetrievalQA"
   ]
  },
  {
   "cell_type": "code",
   "execution_count": 97,
   "metadata": {},
   "outputs": [],
   "source": [
    "querys = load_pickle('./querys.pck')"
   ]
  },
  {
   "cell_type": "code",
   "execution_count": 98,
   "metadata": {},
   "outputs": [
    {
     "data": {
      "text/plain": [
       "['What kind of products or services is NVDIA providing?',\n",
       " 'Who are the customers of NVDIA or what types of markets are NVDIA operating in?',\n",
       " 'Who are the competitors of NVDIA?',\n",
       " \"What are the risk factors and uncertainties that could affect the NVDIA's future performance?\",\n",
       " 'What is the 2025 revenue of NVDIA?',\n",
       " 'What is the 2024 revenue of NVDIA?',\n",
       " 'What is the 2025 total liabilities?',\n",
       " \"What is the 2025 total shareholders' equity?\",\n",
       " 'What is the 2025 total current assets?',\n",
       " 'What is the 2025 total current liabilities?',\n",
       " 'What is the 2025 gross margin?']"
      ]
     },
     "execution_count": 98,
     "metadata": {},
     "output_type": "execute_result"
    }
   ],
   "source": [
    "querys"
   ]
  },
  {
   "cell_type": "code",
   "execution_count": 32,
   "metadata": {
    "colab": {
     "base_uri": "https://localhost:8080/"
    },
    "id": "uVmkOx1DaFab",
    "outputId": "ed9ff943-bbbd-4497-a786-ff3b7b19dbbb"
   },
   "outputs": [
    {
     "name": "stdout",
     "output_type": "stream",
     "text": [
      "118 5167\n"
     ]
    }
   ],
   "source": [
    "file_path = \"../data/nvda-20250126.pdf\"\n",
    "data = PDFMinerLoader(file_path, mode='page')\n",
    "content = data.load()\n",
    "print(len(content), len(content[0].page_content))"
   ]
  },
  {
   "cell_type": "code",
   "execution_count": 88,
   "metadata": {},
   "outputs": [
    {
     "name": "stderr",
     "output_type": "stream",
     "text": [
      "/Users/Nan/miniconda3/envs/rag/lib/python3.11/site-packages/torch/cuda/amp/grad_scaler.py:126: UserWarning: torch.cuda.amp.GradScaler is enabled, but CUDA is not available.  Disabling.\n",
      "  warnings.warn(\n"
     ]
    },
    {
     "name": "stdout",
     "output_type": "stream",
     "text": [
      "---- WARNING! You are using PLAID with an experimental replacement for FAISS for greater compatibility ----\n",
      "This is a behaviour change from RAGatouille 0.8.0 onwards.\n",
      "This works fine for most users and smallish datasets, but can be considerably slower than FAISS and could cause worse results in some situations.\n",
      "If you're confident with FAISS working on your machine, pass use_faiss=True to revert to the FAISS-using behaviour.\n",
      "--------------------\n",
      "\n",
      "\n",
      "[Mar 09, 03:25:42] #> Note: Output directory .ragatouille/colbert/indexes/NVDIA already exists\n",
      "\n",
      "\n",
      "[Mar 09, 03:25:42] #> Will delete 10 files already at .ragatouille/colbert/indexes/NVDIA in 20 seconds...\n",
      "[Mar 09, 03:26:03] [0] \t\t #> Encoding 1342 passages..\n"
     ]
    },
    {
     "name": "stderr",
     "output_type": "stream",
     "text": [
      "  0%|                                                    | 0/42 [00:00<?, ?it/s]/Users/Nan/miniconda3/envs/rag/lib/python3.11/site-packages/torch/amp/autocast_mode.py:250: UserWarning: User provided device_type of 'cuda', but CUDA is not available. Disabling\n",
      "  warnings.warn(\n",
      "100%|███████████████████████████████████████████| 42/42 [02:13<00:00,  3.18s/it]"
     ]
    },
    {
     "name": "stdout",
     "output_type": "stream",
     "text": [
      "[Mar 09, 03:28:17] [0] \t\t avg_doclen_est = 57.59687042236328 \t len(local_sample) = 1,342\n"
     ]
    },
    {
     "name": "stderr",
     "output_type": "stream",
     "text": [
      "\n"
     ]
    },
    {
     "name": "stdout",
     "output_type": "stream",
     "text": [
      "[Mar 09, 03:28:17] [0] \t\t Creating 4,096 partitions.\n",
      "[Mar 09, 03:28:17] [0] \t\t *Estimated* 77,295 embeddings.\n",
      "[Mar 09, 03:28:17] [0] \t\t #> Saving the indexing plan to .ragatouille/colbert/indexes/NVDIA/plan.json ..\n",
      "used 20 iterations (47.4364s) to cluster 73431 items into 4096 clusters\n",
      "[0.032, 0.035, 0.033, 0.031, 0.033, 0.034, 0.032, 0.033, 0.031, 0.034, 0.03, 0.032, 0.035, 0.036, 0.033, 0.033, 0.029, 0.03, 0.032, 0.033, 0.033, 0.035, 0.031, 0.033, 0.03, 0.031, 0.034, 0.031, 0.034, 0.035, 0.033, 0.033, 0.034, 0.032, 0.033, 0.029, 0.034, 0.035, 0.033, 0.035, 0.032, 0.031, 0.032, 0.035, 0.032, 0.032, 0.03, 0.037, 0.036, 0.032, 0.03, 0.033, 0.034, 0.031, 0.032, 0.032, 0.038, 0.035, 0.038, 0.032, 0.03, 0.033, 0.032, 0.033, 0.035, 0.035, 0.035, 0.033, 0.031, 0.033, 0.034, 0.029, 0.032, 0.035, 0.03, 0.034, 0.034, 0.033, 0.031, 0.035, 0.034, 0.034, 0.031, 0.033, 0.034, 0.032, 0.032, 0.032, 0.031, 0.035, 0.033, 0.036, 0.032, 0.033, 0.033, 0.034, 0.037, 0.033, 0.032, 0.033, 0.034, 0.036, 0.031, 0.03, 0.034, 0.033, 0.032, 0.03, 0.031, 0.031, 0.032, 0.034, 0.035, 0.032, 0.033, 0.032, 0.034, 0.035, 0.033, 0.034, 0.031, 0.034, 0.031, 0.033, 0.032, 0.036, 0.033, 0.031]\n"
     ]
    },
    {
     "name": "stderr",
     "output_type": "stream",
     "text": [
      "0it [00:00, ?it/s]"
     ]
    },
    {
     "name": "stdout",
     "output_type": "stream",
     "text": [
      "[Mar 09, 03:29:05] [0] \t\t #> Encoding 1342 passages..\n"
     ]
    },
    {
     "name": "stderr",
     "output_type": "stream",
     "text": [
      "\n",
      "  0%|                                                    | 0/42 [00:00<?, ?it/s]\u001b[A\n",
      "  2%|█                                           | 1/42 [00:02<02:01,  2.95s/it]\u001b[A\n",
      "  5%|██                                          | 2/42 [00:06<02:05,  3.13s/it]\u001b[A\n",
      "  7%|███▏                                        | 3/42 [00:09<02:05,  3.22s/it]\u001b[A\n",
      " 10%|████▏                                       | 4/42 [00:12<02:03,  3.25s/it]\u001b[A\n",
      " 12%|█████▏                                      | 5/42 [00:16<02:00,  3.24s/it]\u001b[A\n",
      " 14%|██████▎                                     | 6/42 [00:19<01:53,  3.16s/it]\u001b[A\n",
      " 17%|███████▎                                    | 7/42 [00:21<01:46,  3.05s/it]\u001b[A\n",
      " 19%|████████▍                                   | 8/42 [00:24<01:40,  2.96s/it]\u001b[A\n",
      " 21%|█████████▍                                  | 9/42 [00:27<01:40,  3.03s/it]\u001b[A\n",
      " 24%|██████████▏                                | 10/42 [00:31<01:38,  3.07s/it]\u001b[A\n",
      " 26%|███████████▎                               | 11/42 [00:33<01:32,  2.98s/it]\u001b[A\n",
      " 29%|████████████▎                              | 12/42 [00:36<01:28,  2.96s/it]\u001b[A\n",
      " 31%|█████████████▎                             | 13/42 [00:39<01:24,  2.93s/it]\u001b[A\n",
      " 33%|██████████████▎                            | 14/42 [00:42<01:22,  2.96s/it]\u001b[A\n",
      " 36%|███████████████▎                           | 15/42 [00:45<01:21,  3.01s/it]\u001b[A\n",
      " 38%|████████████████▍                          | 16/42 [00:48<01:17,  2.96s/it]\u001b[A\n",
      " 40%|█████████████████▍                         | 17/42 [00:51<01:13,  2.92s/it]\u001b[A\n",
      " 43%|██████████████████▍                        | 18/42 [00:54<01:14,  3.11s/it]\u001b[A\n",
      " 45%|███████████████████▍                       | 19/42 [00:58<01:16,  3.31s/it]\u001b[A\n",
      " 48%|████████████████████▍                      | 20/42 [01:02<01:18,  3.56s/it]\u001b[A\n",
      " 50%|█████████████████████▌                     | 21/42 [01:06<01:13,  3.52s/it]\u001b[A\n",
      " 52%|██████████████████████▌                    | 22/42 [01:09<01:09,  3.46s/it]\u001b[A\n",
      " 55%|███████████████████████▌                   | 23/42 [01:12<01:03,  3.35s/it]\u001b[A\n",
      " 57%|████████████████████████▌                  | 24/42 [01:15<00:57,  3.21s/it]\u001b[A\n",
      " 60%|█████████████████████████▌                 | 25/42 [01:18<00:53,  3.13s/it]\u001b[A\n",
      " 62%|██████████████████████████▌                | 26/42 [01:21<00:49,  3.09s/it]\u001b[A\n",
      " 64%|███████████████████████████▋               | 27/42 [01:24<00:45,  3.03s/it]\u001b[A\n",
      " 67%|████████████████████████████▋              | 28/42 [01:27<00:41,  2.97s/it]\u001b[A\n",
      " 69%|█████████████████████████████▋             | 29/42 [01:30<00:38,  2.94s/it]\u001b[A\n",
      " 71%|██████████████████████████████▋            | 30/42 [01:33<00:35,  2.97s/it]\u001b[A\n",
      " 74%|███████████████████████████████▋           | 31/42 [01:36<00:32,  2.96s/it]\u001b[A\n",
      " 76%|████████████████████████████████▊          | 32/42 [01:38<00:29,  2.91s/it]\u001b[A\n",
      " 79%|█████████████████████████████████▊         | 33/42 [01:41<00:26,  2.91s/it]\u001b[A\n",
      " 81%|██████████████████████████████████▊        | 34/42 [01:44<00:23,  2.94s/it]\u001b[A\n",
      " 83%|███████████████████████████████████▊       | 35/42 [01:47<00:20,  2.96s/it]\u001b[A\n",
      " 86%|████████████████████████████████████▊      | 36/42 [01:51<00:18,  3.11s/it]\u001b[A\n",
      " 88%|█████████████████████████████████████▉     | 37/42 [01:54<00:16,  3.26s/it]\u001b[A\n",
      " 90%|██████████████████████████████████████▉    | 38/42 [01:57<00:12,  3.12s/it]\u001b[A\n",
      " 93%|███████████████████████████████████████▉   | 39/42 [02:00<00:09,  3.08s/it]\u001b[A\n",
      " 95%|████████████████████████████████████████▉  | 40/42 [02:03<00:06,  3.06s/it]\u001b[A\n",
      " 98%|█████████████████████████████████████████▉ | 41/42 [02:06<00:03,  3.09s/it]\u001b[A\n",
      "100%|███████████████████████████████████████████| 42/42 [02:09<00:00,  3.08s/it]\u001b[A\n",
      "1it [02:11, 131.74s/it]\n",
      "100%|████████████████████████████████████████████| 1/1 [00:00<00:00, 567.56it/s]"
     ]
    },
    {
     "name": "stdout",
     "output_type": "stream",
     "text": [
      "[Mar 09, 03:31:17] #> Optimizing IVF to store map from centroids to list of pids..\n",
      "[Mar 09, 03:31:17] #> Building the emb2pid mapping..\n",
      "[Mar 09, 03:31:17] len(emb2pid) = 77295\n"
     ]
    },
    {
     "name": "stderr",
     "output_type": "stream",
     "text": [
      "\n",
      "100%|████████████████████████████████████| 4096/4096 [00:00<00:00, 48079.11it/s]"
     ]
    },
    {
     "name": "stdout",
     "output_type": "stream",
     "text": [
      "[Mar 09, 03:31:17] #> Saved optimized IVF to .ragatouille/colbert/indexes/NVDIA/ivf.pid.pt\n",
      "Done indexing!\n"
     ]
    },
    {
     "name": "stderr",
     "output_type": "stream",
     "text": [
      "\n"
     ]
    }
   ],
   "source": [
    "# colbert\n",
    "#max_document_length = 100 didn't work\n",
    "max_document_length = 512\n",
    "colbert_k = 5\n",
    "documents = list(map(lambda x: x.page_content, content))\n",
    "RAG = RAGPretrainedModel.from_pretrained(\"colbert-ir/colbertv2.0\")\n",
    "RAG.index(\n",
    "    collection=documents,\n",
    "    index_name=\"NVDIA\",\n",
    "    max_document_length=max_document_length,\n",
    "    split_documents=True,\n",
    ")\n",
    "clbt_retriever = RAG.as_langchain_retriever(k=colbert_k)"
   ]
  },
  {
   "cell_type": "code",
   "execution_count": 89,
   "metadata": {},
   "outputs": [],
   "source": [
    "# bm25\n",
    "chunk_size = 800\n",
    "chunk_overlap = 30\n",
    "# chunk_size, chunk_overlap = 100, 20 did not work\n",
    "keyword_retriever_k = 5\n",
    "splitter = RecursiveCharacterTextSplitter(chunk_size=chunk_size,\n",
    "                                          chunk_overlap=chunk_overlap)\n",
    "chunks = splitter.split_documents(content)\n",
    "keyword_retriever = BM25Retriever.from_documents(chunks)\n",
    "keyword_retriever.k = keyword_retriever_k"
   ]
  },
  {
   "cell_type": "code",
   "execution_count": 90,
   "metadata": {},
   "outputs": [],
   "source": [
    "# hybrid\n",
    "retrievers = [clbt_retriever, keyword_retriever]\n",
    "retriever_weights = [0.3, 0.7]\n",
    "ensemble_retriever = EnsembleRetriever(retrievers= retrievers,\n",
    "                                       weights=retriever_weights)"
   ]
  },
  {
   "cell_type": "code",
   "execution_count": 91,
   "metadata": {},
   "outputs": [],
   "source": [
    "# reranker\n",
    "rerank_model_name = \"BAAI/bge-reranker-base\"\n",
    "rerank_top_n = 3\n",
    "rerank_model = HuggingFaceCrossEncoder(model_name=rerank_model_name)\n",
    "compressor = CrossEncoderReranker(model=rerank_model, top_n=rerank_top_n)\n",
    "compression_retriever = ContextualCompressionRetriever(\n",
    "    base_compressor=compressor, base_retriever=ensemble_retriever\n",
    ")"
   ]
  },
  {
   "cell_type": "markdown",
   "metadata": {},
   "source": [
    "## Generation"
   ]
  },
  {
   "cell_type": "code",
   "execution_count": null,
   "metadata": {},
   "outputs": [],
   "source": [
    "#relevant_context = compression_retriever.get_relevant_documents(querys[0])"
   ]
  },
  {
   "cell_type": "markdown",
   "metadata": {},
   "source": [
    "didn't work. too slow.\n",
    "from langchain_huggingface import HuggingFacePipeline\n",
    "import torch\n",
    "#model_id = \"HuggingFaceH4/zephyr-7b-alpha\"\n",
    "#model_id = 'TinyLlama/TinyLlama-1.1B-Chat-v1.0'\n",
    "#model_id = 'deepseek-ai/DeepSeek-R1'\n",
    "#model_id = 'meta-llama/Llama-3.1-8B'\n",
    "model_id = 'meta-llama/Llama-3.2-1B'\n",
    "llm = HuggingFacePipeline.from_model_id(\n",
    "    model_id=model_id,\n",
    "    task=\"text-generation\",\n",
    "    pipeline_kwargs={\n",
    "        \"max_new_tokens\": 100,\n",
    "        \"top_k\": 50,\n",
    "        \"temperature\": 0.9,\n",
    "        \"do_sample\":True,\n",
    "        'top_p':0.95,\n",
    "        #'torch_dtype':torch.bfloat16, \n",
    "        'device_map':\"auto\"\n",
    "    },\n",
    ")"
   ]
  },
  {
   "cell_type": "markdown",
   "metadata": {},
   "source": [
    "from openai import OpenAI\n",
    "client = OpenAI()\n",
    "models = client.models.list()\n",
    "for model in models:\n",
    "    print(model.id)"
   ]
  },
  {
   "cell_type": "code",
   "execution_count": 44,
   "metadata": {},
   "outputs": [],
   "source": [
    "# https://stackoverflow.com/questions/75774873/openai-api-error-this-is-a-chat-model-and-not-supported-in-the-v1-completions\n",
    "from langchain_openai import ChatOpenAI\n",
    "llm = ChatOpenAI(model_name=\"gpt-4o-mini-2024-07-18\")"
   ]
  },
  {
   "cell_type": "code",
   "execution_count": 92,
   "metadata": {
    "id": "WDkCjEcTkqLO"
   },
   "outputs": [],
   "source": [
    "from langchain_core.output_parsers import StrOutputParser\n",
    "from langchain_core.runnables import RunnablePassthrough\n",
    "from langchain_core.prompts import ChatPromptTemplate\n",
    "\n",
    "template = \"\"\"\n",
    "<|system|>>\n",
    "You are a Financial Assistant that follows instructions extremely well.\n",
    "Please be truthful and give direct answers. Please tell 'I don't know' if user query is not in CONTEXT\n",
    "\n",
    "CONTEXT: {context}\n",
    "</s>\n",
    "<|user|>\n",
    "{query}\n",
    "</s>\n",
    "<|assistant|>\n",
    "\"\"\"\n",
    "\n",
    "prompt = ChatPromptTemplate.from_template(template)"
   ]
  },
  {
   "cell_type": "code",
   "execution_count": 93,
   "metadata": {
    "id": "mUGKQyG_kn0O"
   },
   "outputs": [],
   "source": [
    "output_parser = StrOutputParser()\n",
    "chain = (\n",
    "    {\"context\": compression_retriever, \"query\": RunnablePassthrough()}\n",
    "    | prompt\n",
    "    | llm\n",
    "    | output_parser\n",
    ")"
   ]
  },
  {
   "cell_type": "markdown",
   "metadata": {},
   "source": [
    "### Test question: What is the total revenue of NVIDIA for fiscal year 2025?"
   ]
  },
  {
   "cell_type": "code",
   "execution_count": 48,
   "metadata": {},
   "outputs": [
    {
     "name": "stdout",
     "output_type": "stream",
     "text": [
      "As of my last update, I do not have access to real-time financial data or projections beyond October 2023. To obtain the most accurate and up-to-date revenue figures for NVIDIA for fiscal year 2025, I recommend checking their official financial reports, investor relations website, or financial news sources.\n"
     ]
    }
   ],
   "source": [
    "# no rag\n",
    "response = llm.invoke(query)\n",
    "print(response.content)"
   ]
  },
  {
   "cell_type": "code",
   "execution_count": 53,
   "metadata": {
    "id": "XcJEurHfk5xM"
   },
   "outputs": [
    {
     "name": "stdout",
     "output_type": "stream",
     "text": [
      "The revenue of NVIDIA in fiscal year 2025 was $130.5 billion.\n"
     ]
    }
   ],
   "source": [
    "# with rag\n",
    "rag_response = chain.invoke(query)\n",
    "print(rag_response)\n",
    "# This is correct."
   ]
  },
  {
   "cell_type": "markdown",
   "metadata": {},
   "source": [
    "### Test question: What is the debt-to-equity ratio of NVIDIA for fiscal year 2025?"
   ]
  },
  {
   "cell_type": "code",
   "execution_count": 59,
   "metadata": {},
   "outputs": [
    {
     "name": "stdout",
     "output_type": "stream",
     "text": [
      "The debt-to-equity (D/E) ratio is a financial metric used to assess a company's financial leverage by comparing its total liabilities to its shareholders' equity. It indicates how much debt a company is using to finance its assets relative to the equity provided by shareholders.\n",
      "\n",
      "### Formula:\n",
      "\n",
      "The debt-to-equity ratio is calculated using the following formula:\n",
      "\n",
      "\\[\n",
      "\\text{Debt-to-Equity Ratio} = \\frac{\\text{Total Liabilities}}{\\text{Total Equity}}\n",
      "\\]\n",
      "\n",
      "### Steps to Calculate:\n",
      "\n",
      "1. **Find Total Liabilities**: This includes all of a company's debts, such as loans, mortgages, and any other financial obligations. You can usually find this information on the company's balance sheet.\n",
      "\n",
      "2. **Find Total Equity**: This includes all the ownership equity in the company, which can consist of common stock, preferred stock, and retained earnings. This information is also found on the balance sheet.\n",
      "\n",
      "3. **Plug the values into the formula**: Substitute the total liabilities and total equity into the formula to calculate the D/E ratio.\n",
      "\n",
      "### Example Calculation:\n",
      "\n",
      "- **Total Liabilities**: $500,000\n",
      "- **Total Equity**: $250,000\n",
      "\n",
      "Calculating the D/E ratio:\n",
      "\n",
      "\\[\n",
      "\\text{D/E Ratio} = \\frac{500,000}{250,000} = 2.0\n",
      "\\]\n",
      "\n",
      "In this example, the debt-to-equity ratio is 2.0, meaning that for every dollar of equity, the company has $2 in debt.\n",
      "\n",
      "### Interpretation:\n",
      "\n",
      "- A **D/E ratio** greater than 1 indicates that a company has more debt than equity, which could imply higher financial risk.\n",
      "- A **D/E ratio** less than 1 indicates that a company has more equity than debt, which could imply a more conservative financial structure.\n",
      "\n",
      "Different industries have varying acceptable levels of D/E ratios, so it’s essential to compare a company's ratio with industry averages for proper analysis.\n"
     ]
    }
   ],
   "source": [
    "# test if llm knows how to calculate debt-to-equity ratio\n",
    "d2e_response = llm.invoke('How to calculate debt-to-equity ratio?')\n",
    "print(d2e_response.content)"
   ]
  },
  {
   "cell_type": "code",
   "execution_count": 55,
   "metadata": {},
   "outputs": [
    {
     "name": "stdout",
     "output_type": "stream",
     "text": [
      "I’m unable to provide real-time financial data or projections for specific companies such as NVIDIA as of January 2025. To find the most accurate and up-to-date information on NVIDIA's debt-to-equity ratio, I recommend checking financial news websites, the company's investor relations page, or financial databases.\n"
     ]
    }
   ],
   "source": [
    "# no rag response\n",
    "response = llm.invoke('What is the debt-to-equity ratio of NVIDIA as of January 2025?')\n",
    "print(response.content)"
   ]
  },
  {
   "cell_type": "code",
   "execution_count": 57,
   "metadata": {},
   "outputs": [
    {
     "name": "stdout",
     "output_type": "stream",
     "text": [
      "I don't know.\n"
     ]
    }
   ],
   "source": [
    "# with rag and zero-shot propmt \n",
    "rag_response = chain.invoke('What is the debt-to-equity ratio of NVIDIA as of January 2025?')\n",
    "print(rag_response)"
   ]
  },
  {
   "cell_type": "code",
   "execution_count": 71,
   "metadata": {},
   "outputs": [
    {
     "name": "stdout",
     "output_type": "stream",
     "text": [
      "I don't know.\n"
     ]
    }
   ],
   "source": [
    "# with rag and chain of thoughts\n",
    "# did not work\n",
    "query = \"\"\"Q: What is the debt-to-equity ratio of company A?\n",
    "           A: The debt-to-equity (D/E) ratio is a financial metric used to assess a company's financial leverage by comparing its total liabilities to its shareholders' equity.\n",
    "           ### Formula:\n",
    "            \\[\n",
    "            \\text{Debt-to-Equity Ratio} = \\frac{\\text{Total Liabilities}}{\\text{Total Equity}}\n",
    "            \\]\n",
    "\n",
    "           ### Steps to Calculate:\n",
    "               1. **Find Total Liabilities of company A**: $500,000\n",
    "               2. **Find Total Equity of company A**: $250,000\n",
    "               3. **Plug the values into the formula**: Substitute the total liabilities and total equity into the formula to calculate the D/E ratio.\n",
    "            \\[\n",
    "            \\text{D/E Ratio} = \\frac{500,000}{250,000} = 2.0\n",
    "            \\]\n",
    "            In this example, the debt-to-equity ratio of company A is 2.0\n",
    "            Q: What is the debt-to-equity ratio of NVIDIA as of January 2025?\"\"\"\n",
    "rag_response = chain.invoke(query)\n",
    "print(rag_response)"
   ]
  },
  {
   "cell_type": "code",
   "execution_count": 76,
   "metadata": {},
   "outputs": [
    {
     "name": "stderr",
     "output_type": "stream",
     "text": [
      "/Users/Nan/miniconda3/envs/rag/lib/python3.11/site-packages/torch/amp/autocast_mode.py:250: UserWarning: User provided device_type of 'cuda', but CUDA is not available. Disabling\n",
      "  warnings.warn(\n"
     ]
    },
    {
     "name": "stdout",
     "output_type": "stream",
     "text": [
      "The total liabilities for NVIDIA Corporation as of January 26, 2025, is $32,274 million.\n"
     ]
    }
   ],
   "source": [
    "# with rag\n",
    "rag_response = chain.invoke('What is the 2025 total liabilities?')\n",
    "print(rag_response)\n",
    "# This is correct."
   ]
  },
  {
   "cell_type": "code",
   "execution_count": 80,
   "metadata": {},
   "outputs": [
    {
     "name": "stderr",
     "output_type": "stream",
     "text": [
      "/Users/Nan/miniconda3/envs/rag/lib/python3.11/site-packages/torch/amp/autocast_mode.py:250: UserWarning: User provided device_type of 'cuda', but CUDA is not available. Disabling\n",
      "  warnings.warn(\n"
     ]
    },
    {
     "name": "stdout",
     "output_type": "stream",
     "text": [
      "The total shareholders' equity as of January 26, 2025, is $68,038 million.\n"
     ]
    }
   ],
   "source": [
    "# with rag\n",
    "rag_response = chain.invoke(\"What is the 2025 total shareholders' equity?\")\n",
    "print(rag_response)\n",
    "# This is wrong. Get the number one line above."
   ]
  },
  {
   "cell_type": "code",
   "execution_count": 81,
   "metadata": {},
   "outputs": [
    {
     "name": "stderr",
     "output_type": "stream",
     "text": [
      "/Users/Nan/miniconda3/envs/rag/lib/python3.11/site-packages/torch/amp/autocast_mode.py:250: UserWarning: User provided device_type of 'cuda', but CUDA is not available. Disabling\n",
      "  warnings.warn(\n"
     ]
    },
    {
     "name": "stdout",
     "output_type": "stream",
     "text": [
      "The total shareholders' equity for NVIDIA as of January 26, 2025, is $68,038 million, and the total liabilities are $79,327 million. \n",
      "\n",
      "To calculate the debt-to-equity ratio:\n",
      "\n",
      "Debt-to-Equity Ratio = Total Liabilities / Total Shareholders' Equity  \n",
      "Debt-to-Equity Ratio = $79,327 million / $68,038 million  \n",
      "Debt-to-Equity Ratio ≈ 1.165  \n",
      "\n",
      "Thus, the debt-to-equity ratio of NVIDIA as of January 2025 is approximately 1.17.\n"
     ]
    }
   ],
   "source": [
    "# with rag and instruction\n",
    "rag_response = chain.invoke(\"First, look for the 2025 total shareholders' equity. Second, look for the 2025 total liabilities. Given these two numbers, calculate the debt-to-equity ratio of NVIDIA as of January 2025?\")\n",
    "print(rag_response)\n",
    "# This is wrong. $79,327 million is Total Shareholders' Equity and one line above 'Total liabilites and shareholder's equity'."
   ]
  },
  {
   "cell_type": "code",
   "execution_count": 86,
   "metadata": {},
   "outputs": [
    {
     "name": "stderr",
     "output_type": "stream",
     "text": [
      "/Users/Nan/miniconda3/envs/rag/lib/python3.11/site-packages/torch/amp/autocast_mode.py:250: UserWarning: User provided device_type of 'cuda', but CUDA is not available. Disabling\n",
      "  warnings.warn(\n"
     ]
    },
    {
     "name": "stdout",
     "output_type": "stream",
     "text": [
      "To calculate the debt-to-equity ratio, we can use the formula:\n",
      "\n",
      "\\[\n",
      "\\text{Debt-to-Equity Ratio} = \\frac{\\text{Total Liabilities}}{\\text{Total Shareholders' Equity}}\n",
      "\\]\n",
      "\n",
      "From the provided information as of January 26, 2025:\n",
      "\n",
      "- Total Liabilities = $32,274 million (from current liabilities) + $8,463 million (long-term debt) + additional long-term liabilities not specified = $80,126 million\n",
      "- Total Shareholders' Equity = $68,038 million\n",
      "\n",
      "Now we can calculate:\n",
      "\n",
      "\\[\n",
      "\\text{Debt-to-Equity Ratio} = \\frac{80,126}{68,038} \\approx 1.18\n",
      "\\]\n",
      "\n",
      "Therefore, the debt-to-equity ratio of NVIDIA as of January 2025 is approximately 1.18.\n"
     ]
    }
   ],
   "source": [
    "# with rag and instruction\n",
    "rag_response = chain.invoke(\"Look for necessay information from given documents and calculate the debt-to-equity ratio of NVIDIA as of January 2025.\")\n",
    "print(rag_response)\n",
    "# This is wrong. $79,327 million is Total Shareholders' Equity and one line above 'Total liabilites and shareholder's equity'."
   ]
  },
  {
   "cell_type": "code",
   "execution_count": 94,
   "metadata": {},
   "outputs": [
    {
     "name": "stdout",
     "output_type": "stream",
     "text": [
      "Loading searcher for index NVDIA for the first time... This may take a few seconds\n",
      "[Mar 09, 03:43:21] #> Loading codec...\n",
      "[Mar 09, 03:43:21] #> Loading IVF...\n",
      "[Mar 09, 03:43:21] #> Loading doclens...\n"
     ]
    },
    {
     "name": "stderr",
     "output_type": "stream",
     "text": [
      "/Users/Nan/miniconda3/envs/rag/lib/python3.11/site-packages/torch/cuda/amp/grad_scaler.py:126: UserWarning: torch.cuda.amp.GradScaler is enabled, but CUDA is not available.  Disabling.\n",
      "  warnings.warn(\n",
      "100%|███████████████████████████████████████████| 1/1 [00:00<00:00, 1613.19it/s]"
     ]
    },
    {
     "name": "stdout",
     "output_type": "stream",
     "text": [
      "[Mar 09, 03:43:21] #> Loading codes and residuals...\n"
     ]
    },
    {
     "name": "stderr",
     "output_type": "stream",
     "text": [
      "\n",
      "100%|████████████████████████████████████████████| 1/1 [00:00<00:00, 115.21it/s]\n",
      "/Users/Nan/miniconda3/envs/rag/lib/python3.11/site-packages/torch/amp/autocast_mode.py:250: UserWarning: User provided device_type of 'cuda', but CUDA is not available. Disabling\n",
      "  warnings.warn(\n"
     ]
    },
    {
     "name": "stdout",
     "output_type": "stream",
     "text": [
      "Searcher loaded!\n",
      "\n",
      "#> QueryTokenizer.tensorize(batch_text[0], batch_background[0], bsize) ==\n",
      "#> Input: First, look for the 2025 total shareholders' equity. Second, look for the 2025 total liabilities. Calculate the debt-to-equity ratio of NVIDIA as of January 2025., \t\t True, \t\t None\n",
      "#> Output IDs: torch.Size([33]), tensor([  101,     1,  2034,  1010,  2298,  2005,  1996, 16798,  2629,  2561,\n",
      "        15337,  1005, 10067,  1012,  2117,  1010,  2298,  2005,  1996, 16798,\n",
      "         2629,  2561, 22393, 14680,  1012, 18422,  1996,  7016,  1011,  2000,\n",
      "         1011, 10067,   102])\n",
      "#> Output Mask: torch.Size([33]), tensor([1, 1, 1, 1, 1, 1, 1, 1, 1, 1, 1, 1, 1, 1, 1, 1, 1, 1, 1, 1, 1, 1, 1, 1,\n",
      "        1, 1, 1, 1, 1, 1, 1, 1, 1])\n",
      "\n",
      "The total shareholders' equity for NVIDIA as of January 26, 2025, is $80,126 million (as stated in the first document). \n",
      "\n",
      "However, the total liabilities for January 26, 2025, is not directly provided in the given context. Thus, I don't know the total liabilities for NVIDIA as of January 2025.\n",
      "\n",
      "Without the total liabilities, I cannot calculate the debt-to-equity ratio. If you have that information or if it can be provided, I can help you with the calculation.\n"
     ]
    }
   ],
   "source": [
    "# refine retriever parameters and instruction\n",
    "rag_response = chain.invoke(\"First, look for the 2025 total shareholders' equity. Second, look for the 2025 total liabilities. Calculate the debt-to-equity ratio of NVIDIA as of January 2025.\")\n",
    "print(rag_response)\n",
    "# This is wrong. $79,327 million is Total Shareholders' Equity and one line above 'Total liabilites and shareholder's equity'."
   ]
  },
  {
   "cell_type": "markdown",
   "metadata": {},
   "source": [
    "### Test question: What is the current ratio of NVIDIA for fiscal year 2025?"
   ]
  },
  {
   "cell_type": "code",
   "execution_count": 84,
   "metadata": {},
   "outputs": [
    {
     "name": "stderr",
     "output_type": "stream",
     "text": [
      "/Users/Nan/miniconda3/envs/rag/lib/python3.11/site-packages/torch/amp/autocast_mode.py:250: UserWarning: User provided device_type of 'cuda', but CUDA is not available. Disabling\n",
      "  warnings.warn(\n"
     ]
    },
    {
     "name": "stdout",
     "output_type": "stream",
     "text": [
      "The total current liabilities for NVIDIA as of January 26, 2025, are $18,047 million. The total current assets for the same date are $80,126 million.\n",
      "\n",
      "To calculate the current ratio, you use the formula:\n",
      "\n",
      "\\[\n",
      "\\text{Current Ratio} = \\frac{\\text{Total Current Assets}}{\\text{Total Current Liabilities}}\n",
      "\\]\n",
      "\n",
      "Substituting in the values:\n",
      "\n",
      "\\[\n",
      "\\text{Current Ratio} = \\frac{80,126}{18,047} \\approx 4.44\n",
      "\\]\n",
      "\n",
      "Thus, the current ratio of NVIDIA as of January 2025 is approximately 4.44.\n"
     ]
    }
   ],
   "source": [
    "rag_response = chain.invoke(\"First, look for the 2025 total current liabilities (instead of total liabilites). Second, look for the 2025 total current assets. Given these two numbers, calculate the current ratio of NVIDIA as of January 2025?\")\n",
    "print(rag_response)\n",
    "# This is correct."
   ]
  },
  {
   "cell_type": "code",
   "execution_count": null,
   "metadata": {},
   "outputs": [],
   "source": []
  }
 ],
 "metadata": {
  "colab": {
   "provenance": []
  },
  "kernelspec": {
   "display_name": "rag",
   "language": "python",
   "name": "rag"
  },
  "language_info": {
   "codemirror_mode": {
    "name": "ipython",
    "version": 3
   },
   "file_extension": ".py",
   "mimetype": "text/x-python",
   "name": "python",
   "nbconvert_exporter": "python",
   "pygments_lexer": "ipython3",
   "version": "3.11.8"
  }
 },
 "nbformat": 4,
 "nbformat_minor": 4
}
